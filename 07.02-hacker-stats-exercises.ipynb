{
 "cells": [
  {
   "cell_type": "markdown",
   "metadata": {},
   "source": [
    "# Hacker Stats Exercises\n",
    "<hr>"
   ]
  },
  {
   "cell_type": "code",
   "execution_count": null,
   "metadata": {},
   "outputs": [],
   "source": [
    "import numpy as np\n",
    "import matplotlib.pyplot as plt\n",
    "import seaborn as sns; sns.set()"
   ]
  },
  {
   "cell_type": "markdown",
   "metadata": {},
   "source": [
    "<a id=1><a/>"
   ]
  },
  {
   "cell_type": "markdown",
   "metadata": {},
   "source": [
    "## 1. Write a function that returns the result of a coin flip.\n",
    "\n",
    "### Instructions\n",
    "\n",
    "1. Take the np.random.randint(1,7) from the notebok, which returns a 1,2,3,4,5, or 6\n",
    "2. Alter it so that it returns a 0 or 1.\n",
    "3. Wrap this code in a function, called flip_coin that returns a `0` or `1`.\n",
    "4. run the assert cell below, if nothing happens you have defined the function correctly, it can only return a 1 or a 0."
   ]
  },
  {
   "cell_type": "code",
   "execution_count": null,
   "metadata": {},
   "outputs": [],
   "source": []
  },
  {
   "cell_type": "code",
   "execution_count": null,
   "metadata": {},
   "outputs": [],
   "source": [
    "res = flip_coin()\n",
    "assert res == 1 or res == 0"
   ]
  },
  {
   "cell_type": "markdown",
   "metadata": {},
   "source": [
    "<br>\n",
    "<br>\n",
    "<br>"
   ]
  },
  {
   "cell_type": "markdown",
   "metadata": {},
   "source": [
    "## 2. Write a function that handles the game logic\n",
    "\n",
    "### Instructions\n",
    "\n",
    "1. define function so that it takes 1 argument,`prev_step`.\n",
    "2. The function should define a new value called `next_step`\n",
    "3. flip a coin, we built a function for this in [1](#1)\n",
    "3. Use if statemenets that rely on result of coin flip to alter `init_step` and save result to `next_step`.\n",
    "4. `if coin == 0`\n",
    "  > `next_step` should increase `prev_step` by 1\n",
    "5. `else`\n",
    "  > `next_step` should decrease `prev_step` by 1\n",
    "6. Outside of if blocks, function should now return `next_step`.\n",
    "7. Run assert cell to check work."
   ]
  },
  {
   "cell_type": "code",
   "execution_count": null,
   "metadata": {},
   "outputs": [],
   "source": []
  },
  {
   "cell_type": "code",
   "execution_count": null,
   "metadata": {},
   "outputs": [],
   "source": [
    "res = game_logic(5)\n",
    "print(res)\n",
    "assert res == 4 or res == 6"
   ]
  },
  {
   "cell_type": "markdown",
   "metadata": {},
   "source": [
    "<br>\n",
    "<br>\n",
    "<br>"
   ]
  },
  {
   "cell_type": "markdown",
   "metadata": {},
   "source": [
    "## 3. Write a function that creates a `random walk`\n",
    "\n",
    "### Instructions\n",
    "\n",
    "1. define function `build_random_walk` that it takes 1 argument, the `num_steps` you want to take in your random_walk.\n",
    "2. The function should define a python list of lenght 1 called `rand_walk`.\n",
    "3. `rand_walk` should only contain a single value, — `0`, which will be our first `prev_step`.\n",
    "4. Build a for loop that loops as many times as `num_steps`, `range()` will prove useful.\n",
    "5. define `prev_step` by grabbing the last value of `rand_walk` ... `some_list[-1]`, this value will change as we build out the `rand_walk`.\n",
    "6. Pass `prev_step` to `game_logic()`, save the output as `next_step\n",
    "7. Append `next_step` to the end of `rand_walk`\n",
    "8. Outside of the loop, return `rand_walk` which is of length `num_steps + 1` (the starting 0 increases the length)"
   ]
  },
  {
   "cell_type": "code",
   "execution_count": null,
   "metadata": {},
   "outputs": [],
   "source": []
  },
  {
   "cell_type": "code",
   "execution_count": null,
   "metadata": {},
   "outputs": [],
   "source": [
    "assert len(build_random_walk(10)) == 11\n",
    "assert len(build_random_walk(5)) == 6\n",
    "assert len(build_random_walk(100)) == 101"
   ]
  },
  {
   "cell_type": "markdown",
   "metadata": {},
   "source": [
    "<br>\n",
    "<br>\n",
    "<br>"
   ]
  },
  {
   "cell_type": "markdown",
   "metadata": {},
   "source": [
    "## 4. Write a function that runs a set of  `simulate games`\n",
    "\n",
    "### Instructions\n",
    "\n",
    "1. define function `simulate_games` that it takes 1 argument, the `num_sims` the number of simulations you want to run.\n",
    "2. The function should define a empty python list  called `all_random_walks`.\n",
    "3. Build a for loop that loops as many times as `num_sims`, `range()` will prove useful.\n",
    "4. Pass `num__steps = 100` to `build_random_walk()`, save the output as `rand_walk`\n",
    "5. Append `rand_walk` to the end of `all_random_walks`\n",
    "6. Outside of the loop, return `all_random_walks` "
   ]
  },
  {
   "cell_type": "code",
   "execution_count": null,
   "metadata": {},
   "outputs": [],
   "source": []
  },
  {
   "cell_type": "code",
   "execution_count": null,
   "metadata": {},
   "outputs": [],
   "source": [
    "assert len(simulate_games(10)) == 10\n",
    "assert len(simulate_games(5)) == 5\n",
    "assert len(simulate_games(1000)) == 1000"
   ]
  },
  {
   "cell_type": "markdown",
   "metadata": {},
   "source": [
    "## 5. Visualize Random Walks\n",
    "\n",
    "I've provided the code to plot the data, pass the appropriate data to each function and look at the print outs!\n",
    "\n",
    "### Instructions\n",
    "1. Use the `prepare_data` function to prepare the output of `simulate_games()` for plotting.\n",
    "2. Pass the `prepared_data` into `plot_distibution` \n",
    "3. Pass the `prepared_data` into `plot_all_walks()`\n",
    "4. After plotting all_Walks, you'll notice a chart that looks different from the one in the class notebook.\n",
    "5. Can you identify what function we need to modify so that the random walk can never dip below the x axis?\n",
    "6. Make the appropriate change and run the code again!"
   ]
  },
  {
   "cell_type": "code",
   "execution_count": null,
   "metadata": {},
   "outputs": [],
   "source": [
    "def prepare_data(all_walks):\n",
    "    \n",
    "    \"\"\"Transposes numpy array version of python list, for easier plotting\"\"\"\n",
    "    \n",
    "    np_walks = np.array(all_walks)\n",
    "    np_walks_t = np.transpose(np_walks)\n",
    "    return np_walks_t \n",
    "\n",
    "\n",
    "def plot_distribution(all_Walks):\n",
    "    '''plots a distribution of numbers, in this case the final step of each random walk'''\n",
    "    \n",
    "    plt.figure()\n",
    "    ax = plt.gca()\n",
    "    final_steps = all_walks[-1]\n",
    "    ax.hist(final_steps)\n",
    "    ax.set_title('Dice Game Outcomes')\n",
    "    ax.set_xlabel('Game Outcome')\n",
    "    ax.set_ylabel('# Games')\n",
    "    plt.show()\n",
    "    \n",
    "    \n",
    "def plot_all_walks(all_walks):\n",
    "    '''This will plot every single random walk in a set of all_walks'''\n",
    "    \n",
    "    plt.figure(figsize=(12,8))\n",
    "    ax = plt.gca()\n",
    "    ax.set_title(\"All Random Walks\")\n",
    "    ax.set_xlabel(\"Dice Roll (Time)\")\n",
    "    ax.set_ylabel(\"Steps Taken (Random Walk)\")\n",
    "    ax.plot(all_walks)\n",
    "    plt.show()"
   ]
  },
  {
   "cell_type": "code",
   "execution_count": null,
   "metadata": {},
   "outputs": [],
   "source": [
    "# Your code here, plots should appear below!"
   ]
  }
 ],
 "metadata": {
  "kernelspec": {
   "display_name": "Python 3",
   "language": "python",
   "name": "python3"
  },
  "language_info": {
   "codemirror_mode": {
    "name": "ipython",
    "version": 3
   },
   "file_extension": ".py",
   "mimetype": "text/x-python",
   "name": "python",
   "nbconvert_exporter": "python",
   "pygments_lexer": "ipython3",
   "version": "3.6.5"
  }
 },
 "nbformat": 4,
 "nbformat_minor": 2
}
